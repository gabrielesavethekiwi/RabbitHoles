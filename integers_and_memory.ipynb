{
 "cells": [
  {
   "cell_type": "markdown",
   "metadata": {},
   "source": [
    "# How are integers stored in Python?\n",
    "\n",
    "I stumbled upon a very curious python function, 'id()'. \n",
    "\n",
    "The `id()` function in Python returns a unique identifier for an object. On CPython (the most common implementation of Python), this identifier is typically the memory address where the object is stored. \n",
    "\n",
    "`id(x)` provides a unique identifier for the object `x` during its lifetime — the value of the identifier will remain the same provided that 'x' exists and is not garbage-collected or reassigned. \n",
    "\n",
    "However, Python, to my (modest) knowledge, is a terrible fit for direct memory manipulations due to its notorious overheads and abstraction layers.\n",
    "\n",
    "That being said, I wanted to perform a simple check to verify whether `id()` truly returns a memory address. Specifically, I wanted to see if I could \"reverse engineer\" the value stored in a variable by inspecting the data type and accessing the memory directly.\n",
    "\n",
    "The answer is affirmative. I found reaching the answer — without referring to CPython's source code for PyLongObject —  to be a fun problem solving exercise. \n",
    "\n",
    "Furthermore, navigating the source code at https://github.com/python/cpython/blob/main/Objects/longobject.c is no joke."
   ]
  },
  {
   "cell_type": "markdown",
   "metadata": {},
   "source": [
    "# The id() function\n",
    "\n",
    "Python abstracts away from direct memory management and it's not possible to code like in C.\n",
    "An integer in python should be saved in memory as \n",
    "<pre>\n",
    "+----------------------------+\n",
    "| PyLongObject (int in Python)|\n",
    "+----------------------------+\n",
    "| ob_refcnt (Reference Count) |\n",
    "+----------------------------+\n",
    "| ob_type (Type Information)  |\n",
    "+----------------------------+\n",
    "| ob_digit[0] (Digits)        |\n",
    "+----------------------------+\n",
    "</pre>\n",
    "\n",
    "and id() should point at ob_refcnt, the start of the int structure/object. \n",
    "In coding terms\n",
    "<pre>\n",
    "typedef struct {\n",
    "    PyObject_HEAD  // Contains ob_refcnt and ob_type\n",
    "    ssize_t ob_digit[1];  // Array storing the digits of the integer\n",
    "} PyLongObject;\n",
    "</pre>"
   ]
  },
  {
   "cell_type": "code",
   "execution_count": 14,
   "metadata": {},
   "outputs": [
    {
     "name": "stdout",
     "output_type": "stream",
     "text": [
      "Value of 'a': 12345\n",
      "Reference count of 'a': 3\n"
     ]
    }
   ],
   "source": [
    "import sys\n",
    "\n",
    "a = 12345\n",
    "\n",
    "# Access the value\n",
    "print(f\"Value of 'a': {a}\")\n",
    "# Access the reference count\n",
    "print(f\"Reference count of 'a': {sys.getrefcount(a)}\")"
   ]
  },
  {
   "cell_type": "markdown",
   "metadata": {},
   "source": [
    "The internal structure of a Cint in Python is\n",
    "<pre>\n",
    "typedef struct {\n",
    "    PyObject_HEAD\n",
    "    ssize_t ob_digit[1];\n",
    "} PyLongObject;\n",
    "</pre>\n",
    "value_at_address, obtained using ctypes, will point at the beginning of the structure of the integer a. It returns 2.\n",
    "\n",
    "Now,  sys.getrefcount(a) returns 3. I suspect that this method adds 1 to the reference count because it is referencing a. What's weird is that I am counting it before writing value_at_address, which doesn't seem to get influenced. This has a straighforward explanation: sys.getrefcount() creates a TEMPORARY reference to the int a, and then destroys it!!"
   ]
  },
  {
   "cell_type": "code",
   "execution_count": 15,
   "metadata": {},
   "outputs": [
    {
     "name": "stdout",
     "output_type": "stream",
     "text": [
      "Memory address of 'a': 4936991280\n",
      "Value at that address: 2\n",
      "Reference count of 'a': 3\n"
     ]
    }
   ],
   "source": [
    "import ctypes\n",
    "import sys\n",
    "\n",
    "a = 12345\n",
    "\n",
    "# Get the id of 'a' (which is the memory address in CPython)\n",
    "address_of_a = id(a)\n",
    "\n",
    "# Get the reference count\n",
    "ref_count = sys.getrefcount(a)\n",
    "\n",
    "# Using ctypes to access the memory address\n",
    "# We'll use ctypes.c_long since we're working with a long integer\n",
    "value_at_address = ctypes.c_long.from_address(address_of_a)\n",
    "\n",
    "# Display the values\n",
    "print(f\"Memory address of 'a': {address_of_a}\")\n",
    "print(f\"Value at that address: {value_at_address.value}\")\n",
    "print(f\"Reference count of 'a': {ref_count}\")"
   ]
  },
  {
   "cell_type": "markdown",
   "metadata": {},
   "source": [
    "If this is true, now I can move beyond ob_refcnt. Let's check and see if adjacent memory addresses contain data that actually corresponds to the data of the integer structure outlined before.\n",
    "Let's ask for ChatGPT's help "
   ]
  },
  {
   "cell_type": "code",
   "execution_count": 18,
   "metadata": {},
   "outputs": [
    {
     "name": "stdout",
     "output_type": "stream",
     "text": [
      "Analyzing integer a = 12345\n",
      "Memory address of 'a': 4936992496\n",
      "Reference count of 'a': 2\n",
      "Type pointer of 'a': 4368111432\n",
      "First digit of 'a': 1\n"
     ]
    }
   ],
   "source": [
    "import ctypes\n",
    "import sys\n",
    "\n",
    "a = 12345\n",
    "\n",
    "# Get the id of 'a' (which is the memory address in CPython)\n",
    "address_of_a = id(a)\n",
    "\n",
    "# Access the ob_refcnt (reference count)\n",
    "ref_count = ctypes.c_long.from_address(address_of_a).value\n",
    "\n",
    "# Access the ob_type (type object)\n",
    "# We expect this to be a memory address pointing to the type object\n",
    "type_ptr = ctypes.c_void_p.from_address(address_of_a + ctypes.sizeof(ctypes.c_long)).value\n",
    "\n",
    "# Access the first digit of ob_digit (value of the integer)\n",
    "digit = ctypes.c_long.from_address(address_of_a + 2 * ctypes.sizeof(ctypes.c_long)).value\n",
    "\n",
    "# Display the values\n",
    "print(f\"Analyzing integer a = {a}\")\n",
    "print(f\"Memory address of 'a': {address_of_a}\")\n",
    "print(f\"Reference count of 'a': {ref_count}\")\n",
    "print(f\"Type pointer of 'a': {type_ptr}\")\n",
    "print(f\"First digit of 'a': {digit}\")"
   ]
  },
  {
   "cell_type": "markdown",
   "metadata": {},
   "source": [
    "However the digits returned are nonsensical"
   ]
  },
  {
   "cell_type": "code",
   "execution_count": 19,
   "metadata": {},
   "outputs": [
    {
     "name": "stdout",
     "output_type": "stream",
     "text": [
      "First digit: 1\n",
      "Second digit: 146028900409\n",
      "Third digit: 4838154448\n",
      "Fourth digit: 4937146560\n",
      "Fifth digit: 1\n"
     ]
    }
   ],
   "source": [
    "import ctypes\n",
    "\n",
    "a = 12345\n",
    "\n",
    "# Get the id of 'a' (which is the memory address in CPython)\n",
    "address_of_a = id(a)\n",
    "\n",
    "# Extract the digits\n",
    "# The first digit (which we've already extracted)\n",
    "first_digit = ctypes.c_long.from_address(address_of_a + 2 * ctypes.sizeof(ctypes.c_long)).value\n",
    "# The second digit\n",
    "second_digit = ctypes.c_long.from_address(address_of_a + 3 * ctypes.sizeof(ctypes.c_long)).value\n",
    "# The third digit\n",
    "third_digit = ctypes.c_long.from_address(address_of_a + 4 * ctypes.sizeof(ctypes.c_long)).value\n",
    "# The fourth digit\n",
    "fourth_digit = ctypes.c_long.from_address(address_of_a + 5 * ctypes.sizeof(ctypes.c_long)).value\n",
    "# The fifth digit\n",
    "fifth_digit = ctypes.c_long.from_address(address_of_a + 6 * ctypes.sizeof(ctypes.c_long)).value\n",
    "\n",
    "print(f\"First digit: {first_digit}\")\n",
    "print(f\"Second digit: {second_digit}\")\n",
    "print(f\"Third digit: {third_digit}\")\n",
    "print(f\"Fourth digit: {fourth_digit}\")\n",
    "print(f\"Fifth digit: {fifth_digit}\")"
   ]
  },
  {
   "cell_type": "markdown",
   "metadata": {},
   "source": [
    "# Small integers are saved at the same address\n",
    "\n",
    "Those digits are really not what was expected, and the first one is the same probably due to a coincidence. \n",
    "There seem to be some manipulations done by Python. Now let's define a = 40, b = 40, and see if I can retrieve the same value for both.\n",
    "\n",
    "Spoiler: they are now at the same address despite being two different variables! Maybe this is an instance of Python caching small integers and reusing the cached objects. "
   ]
  },
  {
   "cell_type": "code",
   "execution_count": 26,
   "metadata": {},
   "outputs": [
    {
     "name": "stdout",
     "output_type": "stream",
     "text": [
      "Memory address of 'a' (40): 4368167104\n",
      "Interpreted value of 'a' from memory: 317\n",
      "\n",
      "Memory address of 'b' (40): 4368167104\n",
      "Interpreted value of 'b' from memory: 317\n",
      "\n",
      "'a' and 'b' share the same memory address: True\n",
      "'a' and 'b' have the same interpreted value: True\n"
     ]
    }
   ],
   "source": [
    "import ctypes\n",
    "\n",
    "# Define a helper function to inspect memory and interpret values\n",
    "def inspect_memory(address):\n",
    "    # Read memory content as bytes\n",
    "    bytes_value = (ctypes.c_ubyte * ctypes.sizeof(ctypes.c_long)).from_address(address)\n",
    "    # Convert the bytes to an integer value\n",
    "    interpreted_value = sum(byte << (i * 8) for i, byte in enumerate(bytes_value))\n",
    "    return interpreted_value\n",
    "\n",
    "# Create two variables with the same value\n",
    "a = 40\n",
    "b = 40\n",
    "\n",
    "# Inspect the memory of these integers\n",
    "a_addr = id(a)\n",
    "b_addr = id(b)\n",
    "\n",
    "# Get the interpreted values from memory\n",
    "a_value = inspect_memory(a_addr)\n",
    "b_value = inspect_memory(b_addr)\n",
    "\n",
    "print(f\"Memory address of 'a' (40): {a_addr}\")\n",
    "print(f\"Interpreted value of 'a' from memory: {a_value}\\n\")\n",
    "\n",
    "print(f\"Memory address of 'b' (40): {b_addr}\")\n",
    "print(f\"Interpreted value of 'b' from memory: {b_value}\\n\")\n",
    "\n",
    "# Check if the addresses and values are the same\n",
    "print(f\"'a' and 'b' share the same memory address: {a_addr == b_addr}\")\n",
    "print(f\"'a' and 'b' have the same interpreted value: {a_value == b_value}\")"
   ]
  },
  {
   "cell_type": "markdown",
   "metadata": {},
   "source": [
    "# Retrieving the correct value of a = 12345"
   ]
  },
  {
   "cell_type": "markdown",
   "metadata": {},
   "source": [
    "The following code correctly identifies the structure of PyLong and keeps into account that python represents digits in base $2^{30}$ in a 64-bit architecture."
   ]
  },
  {
   "cell_type": "code",
   "execution_count": 28,
   "metadata": {},
   "outputs": [
    {
     "name": "stdout",
     "output_type": "stream",
     "text": [
      "Original value: 12345\n",
      "Retrieved value from memory: 12345\n"
     ]
    }
   ],
   "source": [
    "import ctypes\n",
    "\n",
    "def retrieve_full_int_value_from_address(address):\n",
    "    # Assume we're on a platform where each digit is stored in 30 bits\n",
    "    # This is common for 64-bit systems, but this could vary\n",
    "\n",
    "    class PyLongObject(ctypes.Structure):\n",
    "        _fields_ = [\n",
    "            (\"ob_refcnt\", ctypes.c_long),  # Reference count\n",
    "            (\"ob_type\", ctypes.c_void_p),  # Type pointer\n",
    "            (\"ob_size\", ctypes.c_ssize_t), # Number of digits (could be negative for negative numbers)\n",
    "            (\"ob_digit\", ctypes.c_uint32 * 1),  # Placeholder for the first digit\n",
    "        ]\n",
    "    \n",
    "    # Create an instance of PyLongObject from the given memory address\n",
    "    py_long = PyLongObject.from_address(address)\n",
    "    \n",
    "    # Retrieve the number of digits and their values\n",
    "    num_digits = abs(py_long.ob_size)\n",
    "    \n",
    "    # Adjust the structure to include all digits\n",
    "    class PyLongObjectWithDigits(ctypes.Structure):\n",
    "        _fields_ = [\n",
    "            (\"ob_refcnt\", ctypes.c_long),\n",
    "            (\"ob_type\", ctypes.c_void_p),\n",
    "            (\"ob_size\", ctypes.c_ssize_t),\n",
    "            (\"ob_digit\", ctypes.c_uint32 * num_digits),\n",
    "        ]\n",
    "    \n",
    "    # Recreate the object to include all digits\n",
    "    py_long_full = PyLongObjectWithDigits.from_address(address)\n",
    "    \n",
    "    # Reconstruct the integer from its digits\n",
    "    value = 0\n",
    "    base = 2**30  # Base used by Python for each digit on a 64-bit system\n",
    "    \n",
    "    for i in range(num_digits):\n",
    "        value += py_long_full.ob_digit[i] * (base ** i)\n",
    "    \n",
    "    # Adjust for negative numbers\n",
    "    if py_long_full.ob_size < 0:\n",
    "        value = -value\n",
    "    \n",
    "    return value\n",
    "\n",
    "# Example with a larger integer\n",
    "a = 12345\n",
    "address_of_a = id(a)\n",
    "\n",
    "# Retrieve the full integer value from memory\n",
    "retrieved_value = retrieve_full_int_value_from_address(address_of_a)\n",
    "\n",
    "print(f\"Original value: {a}\")\n",
    "print(f\"Retrieved value from memory: {retrieved_value}\")"
   ]
  },
  {
   "cell_type": "markdown",
   "metadata": {},
   "source": [
    "The PyLongObject can be seen as a shelf with multiple compartments: \n",
    "<pre>\n",
    "+-------------------+----------------+----------------+---------------------+\n",
    "| Reference Count   | Type Information| Size and Sign  | Digits (Chunks)     |\n",
    "+-------------------+----------------+----------------+---------------------+\n",
    "|      2            |     (int)       |      1         | [chunk1, chunk2...] |\n",
    "+-------------------+----------------+----------------+---------------------+\n",
    "</pre>\n",
    "Let's discuss why Size and Sign holds +1. In base $2^{30}$, 12345 is a very small number represented by only 1 digit! And I guess (I don't know for sure) that +1 will mean \"a positive number with one digit\".\n",
    "\n",
    "Before \n",
    "<pre>\n",
    "first_digit = \n",
    "ctypes.c_long.from_address(\n",
    "\n",
    "            address_of_a + 2 * ctypes.sizeof(ctypes.c_long)\n",
    "    \n",
    "    ).value\n",
    "</pre>\n",
    "is taking address_of_a, which points to the beginning of reference count, and then  skips ahead by 2 times c_long, to reach \"Size and Sign\". We did correctly find +1, as showcased in the code snippet below, so our mistake lied somewhere else."
   ]
  },
  {
   "cell_type": "code",
   "execution_count": 31,
   "metadata": {},
   "outputs": [
    {
     "name": "stdout",
     "output_type": "stream",
     "text": [
      "1\n"
     ]
    }
   ],
   "source": [
    "first_digit = ctypes.c_long.from_address(\n",
    "            address_of_a + 2 * ctypes.sizeof(ctypes.c_long)\n",
    "    ).value\n",
    "\n",
    "print(first_digit)"
   ]
  },
  {
   "cell_type": "markdown",
   "metadata": {},
   "source": [
    "Then the problem must have been in interpreting and accessing the digits. Now we identify how many chunks are there in the compartment \"Digits\"\n",
    "<pre>\n",
    "    num_digits = abs(py_long.ob_size)\n",
    "    \n",
    "    # Adjust the structure to include all digits\n",
    "    class PyLongObjectWithDigits(ctypes.Structure):\n",
    "        _fields_ = [\n",
    "            (\"ob_refcnt\", ctypes.c_long),\n",
    "            (\"ob_type\", ctypes.c_void_p),\n",
    "            (\"ob_size\", ctypes.c_ssize_t),\n",
    "            (\"ob_digit\", ctypes.c_uint32 * num_digits),\n",
    "        ]\n",
    "</pre>\n",
    "and we are interpreting the chunks as unsigned 32 bit integers with c_uint32, which is the way Python should store them. Before we were interpreting them as longs with c_long! \n",
    "\n",
    "Finally, the retrieved digits are read in the correct base, which iss $2^{30}$. Interestingly, Python does not use the $2^{32}$ bits available to a c_uint32 type, maybe (I don't know) this makes some operations more efficient and avoids the risk of overflows.\n",
    "<pre>\n",
    "    base = 2**30  # Base used by Python for each digit on a 64-bit system\n",
    "    \n",
    "    for i in range(num_digits):\n",
    "        value += py_long_full.ob_digit[i] * (base ** i)\n",
    "</pre>"
   ]
  },
  {
   "cell_type": "markdown",
   "metadata": {},
   "source": [
    "# Minimal modification to code from before\n",
    "\n",
    "What I wrote implies that the problem in the code I started from was casting the digit to the wrong type, I was casting it into c_long instead of c_uint32. Then, I should be able to read the number correctly if I save the \"Size and Sign\" = + 1 from before and read an additional unsigned c_uint32 after it. This proves to be the case"
   ]
  },
  {
   "cell_type": "code",
   "execution_count": 32,
   "metadata": {},
   "outputs": [
    {
     "name": "stdout",
     "output_type": "stream",
     "text": [
      "Analyzing integer a = 12345\n",
      "Memory address of 'a': 4937898736\n",
      "Reference count of 'a': 2\n",
      "Type pointer of 'a': 4368111432\n",
      "Size (number of digits and sign) of 'a': 1\n",
      "First digit of 'a': 12345\n"
     ]
    }
   ],
   "source": [
    "import ctypes\n",
    "import sys\n",
    "\n",
    "a = 12345\n",
    "\n",
    "# Get the id of 'a' (which is the memory address in CPython)\n",
    "address_of_a = id(a)\n",
    "\n",
    "# Access the ob_refcnt (reference count)\n",
    "ref_count = ctypes.c_long.from_address(address_of_a).value\n",
    "\n",
    "# Access the ob_type (type object)\n",
    "# We expect this to be a memory address pointing to the type object\n",
    "type_ptr = ctypes.c_void_p.from_address(address_of_a + ctypes.sizeof(ctypes.c_long)).value\n",
    "\n",
    "# Access the ob_size (which includes the number of digits and sign)\n",
    "size = ctypes.c_long.from_address(address_of_a + 2 * ctypes.sizeof(ctypes.c_long)).value\n",
    "\n",
    "# Access the first digit of ob_digit (value of the integer)\n",
    "# This should be done using c_uint32 because digits are stored in 30-bit chunks\n",
    "first_digit = ctypes.c_uint32.from_address(address_of_a + 3 * ctypes.sizeof(ctypes.c_long)).value\n",
    "\n",
    "# Display the values\n",
    "print(f\"Analyzing integer a = {a}\")\n",
    "print(f\"Memory address of 'a': {address_of_a}\")\n",
    "print(f\"Reference count of 'a': {ref_count}\")\n",
    "print(f\"Type pointer of 'a': {type_ptr}\")\n",
    "print(f\"Size (number of digits and sign) of 'a': {size}\")\n",
    "print(f\"First digit of 'a': {first_digit}\")"
   ]
  },
  {
   "cell_type": "markdown",
   "metadata": {},
   "source": [
    "# Reading huge numbers\n",
    "\n",
    "Of course, the best way to conclude this exploration is by correctly retrieving a huge number."
   ]
  },
  {
   "cell_type": "code",
   "execution_count": 37,
   "metadata": {},
   "outputs": [
    {
     "name": "stdout",
     "output_type": "stream",
     "text": [
      "Original  value: 54789549307749363717967245642654820654127167450746741273478270594796070634706458364583706806438045365380416845306453083476597689754398754937934754389543754383549754398343767263692853638647846584239476595470464783065807645160457365410601546530135648376584073635870564380316583645306584045836453816584334063458\n",
      "Retrieved value: 54789549307749363717967245642654820654127167450746741273478270594796070634706458364583706806438045365380416845306453083476597689754398754937934754389543754383549754398343767263692853638647846584239476595470464783065807645160457365410601546530135648376584073635870564380316583645306584045836453816584334063458\n"
     ]
    }
   ],
   "source": [
    "import ctypes\n",
    "\n",
    "def retrieve_full_int_value_from_address(address):\n",
    "    # Assume we're on a platform where each digit is stored in 30 bits\n",
    "    # This is common for 64-bit systems, but this could vary\n",
    "\n",
    "    class PyLongObject(ctypes.Structure):\n",
    "        _fields_ = [\n",
    "            (\"ob_refcnt\", ctypes.c_long),  # Reference count\n",
    "            (\"ob_type\", ctypes.c_void_p),  # Type pointer\n",
    "            (\"ob_size\", ctypes.c_ssize_t), # Number of digits (could be negative for negative numbers)\n",
    "            (\"ob_digit\", ctypes.c_uint32 * 1),  # Placeholder for the first digit\n",
    "        ]\n",
    "    \n",
    "    # Create an instance of PyLongObject from the given memory address\n",
    "    py_long = PyLongObject.from_address(address)\n",
    "    \n",
    "    # Retrieve the number of digits and their values\n",
    "    num_digits = abs(py_long.ob_size)\n",
    "    \n",
    "    # Adjust the structure to include all digits\n",
    "    class PyLongObjectWithDigits(ctypes.Structure):\n",
    "        _fields_ = [\n",
    "            (\"ob_refcnt\", ctypes.c_long),\n",
    "            (\"ob_type\", ctypes.c_void_p),\n",
    "            (\"ob_size\", ctypes.c_ssize_t),\n",
    "            (\"ob_digit\", ctypes.c_uint32 * num_digits),\n",
    "        ]\n",
    "    \n",
    "    # Recreate the object to include all digits\n",
    "    py_long_full = PyLongObjectWithDigits.from_address(address)\n",
    "    \n",
    "    # Reconstruct the integer from its digits\n",
    "    value = 0\n",
    "    base = 2**30  # Base used by Python for each digit on a 64-bit system\n",
    "    \n",
    "    for i in range(num_digits):\n",
    "        value += py_long_full.ob_digit[i] * (base ** i)\n",
    "    \n",
    "    # Adjust for negative numbers\n",
    "    if py_long_full.ob_size < 0:\n",
    "        value = -value\n",
    "    \n",
    "    return value\n",
    "# ----------          START    ------------------------------\n",
    "# choose the integer\n",
    "a =54789549307749363717967245642654820654127167450746741273478270594796070634706458364583706806438045365380416845306453083476597689754398754937934754389543754383549754398343767263692853638647846584239476595470464783065807645160457365410601546530135648376584073635870564380316583645306584045836453816584334063458\n",
    "address_of_a = id(a)\n",
    "\n",
    "# Retrieve the full integer value from memory\n",
    "retrieved_value = retrieve_full_int_value_from_address(address_of_a)\n",
    "\n",
    "print(f\"Original  value: {a}\")\n",
    "print(f\"Retrieved value: {retrieved_value}\")"
   ]
  }
 ],
 "metadata": {
  "kernelspec": {
   "display_name": "Python (new_lubrication_env)",
   "language": "python",
   "name": "new_lubrication_env"
  },
  "language_info": {
   "codemirror_mode": {
    "name": "ipython",
    "version": 3
   },
   "file_extension": ".py",
   "mimetype": "text/x-python",
   "name": "python",
   "nbconvert_exporter": "python",
   "pygments_lexer": "ipython3",
   "version": "3.8.19"
  }
 },
 "nbformat": 4,
 "nbformat_minor": 2
}
